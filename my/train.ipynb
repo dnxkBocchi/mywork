{
 "cells": [
  {
   "cell_type": "code",
   "execution_count": 1,
   "id": "6b867b9e",
   "metadata": {},
   "outputs": [],
   "source": [
    "from env import load_uavs, load_tasks, initialize_targets\n",
    "from runEnv import UAVEnv"
   ]
  },
  {
   "cell_type": "code",
   "execution_count": 2,
   "id": "9a904e11",
   "metadata": {},
   "outputs": [],
   "source": [
    "# 设置数据目录\n",
    "uav_csv = \"data/uav.csv\"\n",
    "task_csv = \"data/task.csv\"\n",
    "uavs = load_uavs(uav_csv)\n",
    "tasks = load_tasks(task_csv)\n",
    "targets = initialize_targets(tasks)\n",
    "\n",
    "# 俩个模式：DQN和Attention\n",
    "dqn_mode = \"dqn\"\n",
    "my_dqn_mode = \"my_dqn\"\n",
    "attention_mode = \"attention\"\n",
    "env = UAVEnv(uavs, targets, tasks, mode=my_dqn_mode)"
   ]
  },
  {
   "cell_type": "code",
   "execution_count": 3,
   "id": "d758ae6c",
   "metadata": {},
   "outputs": [
    {
     "data": {
      "text/plain": [
       "'\\n运行 DQN 优化\\n'"
      ]
     },
     "execution_count": 3,
     "metadata": {},
     "output_type": "execute_result"
    }
   ],
   "source": [
    "\"\"\"\n",
    "运行 DQN 优化\n",
    "\"\"\"\n",
    "# from train.dqn_train import train_dqn\n",
    "# model = train_dqn(env)"
   ]
  },
  {
   "cell_type": "code",
   "execution_count": 4,
   "id": "e72d4419",
   "metadata": {},
   "outputs": [
    {
     "data": {
      "text/plain": [
       "'\\n运行 myDQN 优化\\n'"
      ]
     },
     "execution_count": 4,
     "metadata": {},
     "output_type": "execute_result"
    }
   ],
   "source": [
    "\"\"\"\n",
    "运行 myDQN 优化\n",
    "\"\"\"\n",
    "# from train.dqn_train import train_dqn\n",
    "# model = train_dqn(env, model_name=\"my_dqn_model.pth\")"
   ]
  },
  {
   "cell_type": "code",
   "execution_count": 5,
   "id": "62680d6c",
   "metadata": {},
   "outputs": [
    {
     "data": {
      "text/plain": [
       "'\\n运行 AttentionDQN 优化\\n'"
      ]
     },
     "execution_count": 5,
     "metadata": {},
     "output_type": "execute_result"
    }
   ],
   "source": [
    "\"\"\"\n",
    "运行 AttentionDQN 优化\n",
    "\"\"\"\n",
    "# import torch\n",
    "# # 全局设置（推荐）\n",
    "# torch.set_printoptions(\n",
    "#     threshold=float('inf'),  # 禁用省略，显示所有元素\n",
    "#     edgeitems=5,             # 触发省略时首尾显示5个元素（仅当threshold未设为inf时有效）\n",
    "#     precision=6,             # 浮点数保留6位小数\n",
    "#     linewidth=200            # 每行最大宽度200字符（避免换行过多）\n",
    "# )\n",
    "\n",
    "# from train.attention_train import train_attention_dqn\n",
    "# model = train_attention_dqn(env)"
   ]
  },
  {
   "cell_type": "code",
   "execution_count": null,
   "id": "867c9f00",
   "metadata": {},
   "outputs": [],
   "source": [
    "\"\"\"\n",
    "运行 GA 优化\n",
    "\"\"\"\n",
    "# from model.ga import GeneticAlgorithmScheduler\n",
    "# ga_scheduler = GeneticAlgorithmScheduler(env)\n",
    "# best_solution, best_fitness = ga_scheduler.run()"
   ]
  },
  {
   "cell_type": "code",
   "execution_count": 7,
   "id": "2174eea1",
   "metadata": {},
   "outputs": [
    {
     "data": {
      "text/plain": [
       "'\\n运行 PSO 优化\\n'"
      ]
     },
     "execution_count": 7,
     "metadata": {},
     "output_type": "execute_result"
    }
   ],
   "source": [
    "\"\"\"\n",
    "运行 PSO 优化\n",
    "\"\"\"\n",
    "# from model.pso import PSO\n",
    "# pso = PSO(env, num_particles=30, max_iter=100)\n",
    "# best_position, best_fitness = pso.optimize()"
   ]
  },
  {
   "cell_type": "code",
   "execution_count": 8,
   "id": "f78c63cd",
   "metadata": {},
   "outputs": [
    {
     "data": {
      "text/plain": [
       "'\\n运行 HS_MOPSO 优化\\n'"
      ]
     },
     "execution_count": 8,
     "metadata": {},
     "output_type": "execute_result"
    }
   ],
   "source": [
    "\"\"\"\n",
    "运行 HS_MOPSO 优化\n",
    "\"\"\"\n",
    "# from model.hs_mopso import HS_MOPSO\n",
    "# mopso = HS_MOPSO(env, max_iter=80, pop_size=120)\n",
    "# mopso.run()"
   ]
  },
  {
   "cell_type": "code",
   "execution_count": 9,
   "id": "d506e1b6",
   "metadata": {},
   "outputs": [
    {
     "data": {
      "text/plain": [
       "'\\n运行 RR 轮询算法\\n'"
      ]
     },
     "execution_count": 9,
     "metadata": {},
     "output_type": "execute_result"
    }
   ],
   "source": [
    "\"\"\"\n",
    "运行 RR 轮询算法\n",
    "\"\"\"\n",
    "# from model.rr import round_robin_allocation\n",
    "# round_robin_allocation(env)"
   ]
  },
  {
   "cell_type": "code",
   "execution_count": 10,
   "id": "2e355855",
   "metadata": {},
   "outputs": [
    {
     "data": {
      "text/plain": [
       "'\\n运行随机算法\\n'"
      ]
     },
     "execution_count": 10,
     "metadata": {},
     "output_type": "execute_result"
    }
   ],
   "source": [
    "\"\"\"\n",
    "运行随机算法\n",
    "\"\"\"\n",
    "# from model.random import random_allocation\n",
    "# random_allocation(env)"
   ]
  }
 ],
 "metadata": {
  "kernelspec": {
   "display_name": "base",
   "language": "python",
   "name": "python3"
  },
  "language_info": {
   "codemirror_mode": {
    "name": "ipython",
    "version": 3
   },
   "file_extension": ".py",
   "mimetype": "text/x-python",
   "name": "python",
   "nbconvert_exporter": "python",
   "pygments_lexer": "ipython3",
   "version": "3.12.7"
  }
 },
 "nbformat": 4,
 "nbformat_minor": 5
}
