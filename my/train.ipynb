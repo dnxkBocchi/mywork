{
 "cells": [
  {
   "cell_type": "code",
   "execution_count": 1,
   "id": "6b867b9e",
   "metadata": {},
   "outputs": [],
   "source": [
    "from env import *\n",
    "from runEnv import UAVEnv"
   ]
  },
  {
   "cell_type": "code",
   "execution_count": 2,
   "id": "9a904e11",
   "metadata": {},
   "outputs": [],
   "source": [
    "# 设置数据目录\n",
    "uav_csv = \"data/train/uav.csv\"\n",
    "task_csv = \"data/train/task.csv\"\n",
    "# 加载不同规模的无人机、任务和目标数据\n",
    "# uavs, tasks, targets = load_different_scale_csv(uav_csv, task_csv, 5) # 小规模数据\n",
    "uavs, tasks, targets = load_different_scale_csv(uav_csv, task_csv, 10) # 中规模数据\n",
    "# uavs, tasks, targets = load_different_scale_csv(uav_csv, task_csv, 20) # 大规模数据\n",
    "\n",
    "# 俩个模式：DQN和Attention\n",
    "dqn_mode = \"dqn\"\n",
    "my_dqn_mode = \"my_dqn\"\n",
    "attention_mode = \"attention\""
   ]
  },
  {
   "cell_type": "code",
   "execution_count": null,
   "id": "d758ae6c",
   "metadata": {},
   "outputs": [
    {
     "data": {
      "text/plain": [
       "'\\n运行 DQN 优化\\n'"
      ]
     },
     "execution_count": 3,
     "metadata": {},
     "output_type": "execute_result"
    }
   ],
   "source": [
    "\"\"\"\n",
    "运行 DQN 优化\n",
    "\"\"\"\n",
    "env = UAVEnv(uavs, targets, tasks, mode=dqn_mode)\n",
    "from model.dqn_train import train_dqn\n",
    "model = train_dqn(env)"
   ]
  },
  {
   "cell_type": "code",
   "execution_count": 4,
   "id": "e72d4419",
   "metadata": {},
   "outputs": [
    {
     "data": {
      "text/plain": [
       "'\\n运行 myDQN 优化\\n'"
      ]
     },
     "execution_count": 4,
     "metadata": {},
     "output_type": "execute_result"
    }
   ],
   "source": [
    "\"\"\"\n",
    "运行 myDQN 优化\n",
    "\"\"\"\n",
    "# env = UAVEnv(uavs, targets, tasks, mode=my_dqn_mode)\n",
    "# from model.dqn_train import train_dqn\n",
    "# model = train_dqn(env, model_name=\"my_dqn_model.pth\")"
   ]
  }
 ],
 "metadata": {
  "kernelspec": {
   "display_name": "base",
   "language": "python",
   "name": "python3"
  },
  "language_info": {
   "codemirror_mode": {
    "name": "ipython",
    "version": 3
   },
   "file_extension": ".py",
   "mimetype": "text/x-python",
   "name": "python",
   "nbconvert_exporter": "python",
   "pygments_lexer": "ipython3",
   "version": "3.12.7"
  }
 },
 "nbformat": 4,
 "nbformat_minor": 5
}
