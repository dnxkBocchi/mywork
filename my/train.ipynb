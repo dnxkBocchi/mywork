{
 "cells": [
  {
   "cell_type": "code",
   "execution_count": 1,
   "id": "6b867b9e",
   "metadata": {},
   "outputs": [],
   "source": [
    "from env import load_uavs, load_tasks, initialize_targets\n",
    "from runEnv import UAVEnv"
   ]
  },
  {
   "cell_type": "code",
   "execution_count": 2,
   "id": "9a904e11",
   "metadata": {},
   "outputs": [],
   "source": [
    "# 设置数据目录\n",
    "uav_csv = \"data/uav.csv\"\n",
    "task_csv = \"data/task.csv\"\n",
    "uavs = load_uavs(uav_csv)\n",
    "tasks = load_tasks(task_csv)\n",
    "targets = initialize_targets(tasks)\n",
    "\n",
    "# 俩个模式：DQN和Attention\n",
    "dqn_mode = \"dqn\"\n",
    "attention_mode = \"attention\"\n",
    "env = UAVEnv(uavs, targets, tasks, mode=dqn_mode)"
   ]
  },
  {
   "cell_type": "code",
   "execution_count": null,
   "id": "d758ae6c",
   "metadata": {},
   "outputs": [],
   "source": [
    "\"\"\"\n",
    "运行 DQN 优化\n",
    "\"\"\"\n",
    "# from train.dqn_train import train_dqn\n",
    "# model = train_dqn(env)"
   ]
  },
  {
   "cell_type": "code",
   "execution_count": 4,
   "id": "62680d6c",
   "metadata": {},
   "outputs": [
    {
     "data": {
      "text/plain": [
       "'\\n运行 AttentionDQN 优化\\n'"
      ]
     },
     "execution_count": 4,
     "metadata": {},
     "output_type": "execute_result"
    }
   ],
   "source": [
    "\"\"\"\n",
    "运行 AttentionDQN 优化\n",
    "\"\"\"\n",
    "# from train.attention_train import train_attention_dqn\n",
    "# model = train_attention_dqn(env)"
   ]
  },
  {
   "cell_type": "code",
   "execution_count": 5,
   "id": "2174eea1",
   "metadata": {},
   "outputs": [
    {
     "data": {
      "text/plain": [
       "'\\n运行 PSO 优化\\n'"
      ]
     },
     "execution_count": 5,
     "metadata": {},
     "output_type": "execute_result"
    }
   ],
   "source": [
    "\"\"\"\n",
    "运行 PSO 优化\n",
    "\"\"\"\n",
    "# from model.pso import PSO\n",
    "# pso = PSO(env, num_particles=30, max_iter=100)\n",
    "# best_position, best_fitness = pso.optimize()"
   ]
  },
  {
   "cell_type": "code",
   "execution_count": 6,
   "id": "f78c63cd",
   "metadata": {},
   "outputs": [
    {
     "name": "stdout",
     "output_type": "stream",
     "text": [
      "Iter 1, Average Reward: 0.78, Total Distance: 1392.72, Total Time: 789.59, Success Rate: 0.80\n",
      "Iter 2, Average Reward: 0.78, Total Distance: 1392.72, Total Time: 789.59, Success Rate: 0.80\n",
      "Iter 3, Average Reward: 0.78, Total Distance: 1392.72, Total Time: 789.59, Success Rate: 0.80\n",
      "Iter 4, Average Reward: 0.78, Total Distance: 1392.72, Total Time: 789.59, Success Rate: 0.80\n",
      "Iter 5, Average Reward: 0.78, Total Distance: 1392.72, Total Time: 789.59, Success Rate: 0.80\n",
      "Iter 6, Average Reward: 0.78, Total Distance: 1392.72, Total Time: 789.59, Success Rate: 0.80\n",
      "Iter 7, Average Reward: 0.78, Total Distance: 1392.72, Total Time: 789.59, Success Rate: 0.80\n",
      "Iter 8, Average Reward: 0.78, Total Distance: 1392.72, Total Time: 789.59, Success Rate: 0.80\n",
      "Iter 9, Average Reward: 0.78, Total Distance: 1392.72, Total Time: 789.59, Success Rate: 0.80\n",
      "Iter 10, Average Reward: 0.78, Total Distance: 1392.72, Total Time: 789.59, Success Rate: 0.80\n",
      "Iter 11, Average Reward: 0.78, Total Distance: 1392.72, Total Time: 789.59, Success Rate: 0.80\n",
      "Iter 12, Average Reward: 0.78, Total Distance: 1392.72, Total Time: 789.59, Success Rate: 0.80\n",
      "Iter 13, Average Reward: 0.78, Total Distance: 1392.72, Total Time: 789.59, Success Rate: 0.80\n",
      "Iter 14, Average Reward: 0.78, Total Distance: 1392.72, Total Time: 789.59, Success Rate: 0.80\n",
      "Iter 15, Average Reward: 0.78, Total Distance: 1392.72, Total Time: 789.59, Success Rate: 0.80\n",
      "Iter 16, Average Reward: 0.78, Total Distance: 1392.72, Total Time: 789.59, Success Rate: 0.80\n",
      "Iter 17, Average Reward: 0.78, Total Distance: 1392.72, Total Time: 789.59, Success Rate: 0.80\n",
      "Iter 18, Average Reward: 0.78, Total Distance: 1392.72, Total Time: 789.59, Success Rate: 0.80\n",
      "Iter 19, Average Reward: 0.78, Total Distance: 1392.72, Total Time: 789.59, Success Rate: 0.80\n",
      "Iter 20, Average Reward: 0.78, Total Distance: 1392.72, Total Time: 789.59, Success Rate: 0.80\n",
      "Iter 21, Average Reward: 0.78, Total Distance: 1392.72, Total Time: 789.59, Success Rate: 0.80\n",
      "Iter 22, Average Reward: 0.78, Total Distance: 1392.72, Total Time: 789.59, Success Rate: 0.80\n",
      "Iter 23, Average Reward: 0.78, Total Distance: 1392.72, Total Time: 789.59, Success Rate: 0.80\n",
      "Iter 24, Average Reward: 0.78, Total Distance: 1392.72, Total Time: 789.59, Success Rate: 0.80\n",
      "Iter 25, Average Reward: 0.78, Total Distance: 1392.72, Total Time: 789.59, Success Rate: 0.80\n",
      "Iter 26, Average Reward: 0.78, Total Distance: 1392.72, Total Time: 789.59, Success Rate: 0.80\n",
      "Iter 27, Average Reward: 0.78, Total Distance: 1392.72, Total Time: 789.59, Success Rate: 0.80\n",
      "Iter 28, Average Reward: 0.78, Total Distance: 1392.72, Total Time: 789.59, Success Rate: 0.80\n",
      "Iter 29, Average Reward: 0.78, Total Distance: 1392.72, Total Time: 789.59, Success Rate: 0.80\n",
      "Iter 30, Average Reward: 0.78, Total Distance: 1392.72, Total Time: 789.59, Success Rate: 0.80\n",
      "Iter 31, Average Reward: 0.78, Total Distance: 1392.72, Total Time: 789.59, Success Rate: 0.80\n",
      "Iter 32, Average Reward: 0.78, Total Distance: 1392.72, Total Time: 789.59, Success Rate: 0.80\n",
      "Iter 33, Average Reward: 0.78, Total Distance: 1392.72, Total Time: 789.59, Success Rate: 0.80\n",
      "Iter 34, Average Reward: 0.78, Total Distance: 1392.72, Total Time: 789.59, Success Rate: 0.80\n",
      "Iter 35, Average Reward: 0.78, Total Distance: 1392.72, Total Time: 789.59, Success Rate: 0.80\n",
      "Iter 36, Average Reward: 0.78, Total Distance: 1392.72, Total Time: 789.59, Success Rate: 0.80\n",
      "Iter 37, Average Reward: 0.78, Total Distance: 1392.72, Total Time: 789.59, Success Rate: 0.80\n",
      "Iter 38, Average Reward: 0.78, Total Distance: 1392.72, Total Time: 789.59, Success Rate: 0.80\n",
      "Iter 39, Average Reward: 0.78, Total Distance: 1392.72, Total Time: 789.59, Success Rate: 0.80\n",
      "Iter 40, Average Reward: 0.78, Total Distance: 1392.72, Total Time: 789.59, Success Rate: 0.80\n",
      "Iter 41, Average Reward: 0.78, Total Distance: 1392.72, Total Time: 789.59, Success Rate: 0.80\n",
      "Iter 42, Average Reward: 0.78, Total Distance: 1392.72, Total Time: 789.59, Success Rate: 0.80\n",
      "Iter 43, Average Reward: 0.78, Total Distance: 1392.72, Total Time: 789.59, Success Rate: 0.80\n",
      "Iter 44, Average Reward: 0.78, Total Distance: 1392.72, Total Time: 789.59, Success Rate: 0.80\n",
      "Iter 45, Average Reward: 0.78, Total Distance: 1392.72, Total Time: 789.59, Success Rate: 0.80\n",
      "Iter 46, Average Reward: 0.78, Total Distance: 1392.72, Total Time: 789.59, Success Rate: 0.80\n",
      "Iter 47, Average Reward: 0.78, Total Distance: 1392.72, Total Time: 789.59, Success Rate: 0.80\n",
      "Iter 48, Average Reward: 0.78, Total Distance: 1392.72, Total Time: 789.59, Success Rate: 0.80\n",
      "Iter 49, Average Reward: 0.78, Total Distance: 1392.72, Total Time: 789.59, Success Rate: 0.80\n",
      "Iter 50, Average Reward: 0.78, Total Distance: 1392.72, Total Time: 789.59, Success Rate: 0.80\n",
      "Iter 51, Average Reward: 0.78, Total Distance: 1392.72, Total Time: 789.59, Success Rate: 0.80\n",
      "Iter 52, Average Reward: 0.78, Total Distance: 1392.72, Total Time: 789.59, Success Rate: 0.80\n",
      "Iter 53, Average Reward: 0.78, Total Distance: 1392.72, Total Time: 789.59, Success Rate: 0.80\n",
      "Iter 54, Average Reward: 0.78, Total Distance: 1392.72, Total Time: 789.59, Success Rate: 0.80\n",
      "Iter 55, Average Reward: 0.78, Total Distance: 1392.72, Total Time: 789.59, Success Rate: 0.80\n",
      "Iter 56, Average Reward: 0.78, Total Distance: 1392.72, Total Time: 789.59, Success Rate: 0.80\n",
      "Iter 57, Average Reward: 0.78, Total Distance: 1392.72, Total Time: 789.59, Success Rate: 0.80\n",
      "Iter 58, Average Reward: 0.78, Total Distance: 1392.72, Total Time: 789.59, Success Rate: 0.80\n",
      "Iter 59, Average Reward: 0.78, Total Distance: 1392.72, Total Time: 789.59, Success Rate: 0.80\n",
      "Iter 60, Average Reward: 0.78, Total Distance: 1392.72, Total Time: 789.59, Success Rate: 0.80\n",
      "Iter 61, Average Reward: 0.78, Total Distance: 1392.72, Total Time: 789.59, Success Rate: 0.80\n",
      "Iter 62, Average Reward: 0.78, Total Distance: 1392.72, Total Time: 789.59, Success Rate: 0.80\n",
      "Iter 63, Average Reward: 0.78, Total Distance: 1392.72, Total Time: 789.59, Success Rate: 0.80\n",
      "Iter 64, Average Reward: 0.78, Total Distance: 1392.72, Total Time: 789.59, Success Rate: 0.80\n",
      "Iter 65, Average Reward: 0.78, Total Distance: 1392.72, Total Time: 789.59, Success Rate: 0.80\n",
      "Iter 66, Average Reward: 0.78, Total Distance: 1392.72, Total Time: 789.59, Success Rate: 0.80\n",
      "Iter 67, Average Reward: 0.78, Total Distance: 1392.72, Total Time: 789.59, Success Rate: 0.80\n",
      "Iter 68, Average Reward: 0.78, Total Distance: 1392.72, Total Time: 789.59, Success Rate: 0.80\n",
      "Iter 69, Average Reward: 0.78, Total Distance: 1392.72, Total Time: 789.59, Success Rate: 0.80\n",
      "Iter 70, Average Reward: 0.78, Total Distance: 1392.72, Total Time: 789.59, Success Rate: 0.80\n",
      "Iter 71, Average Reward: 0.78, Total Distance: 1392.72, Total Time: 789.59, Success Rate: 0.80\n",
      "Iter 72, Average Reward: 0.78, Total Distance: 1392.72, Total Time: 789.59, Success Rate: 0.80\n",
      "Iter 73, Average Reward: 0.78, Total Distance: 1392.72, Total Time: 789.59, Success Rate: 0.80\n",
      "Iter 74, Average Reward: 0.78, Total Distance: 1392.72, Total Time: 789.59, Success Rate: 0.80\n",
      "Iter 75, Average Reward: 0.78, Total Distance: 1392.72, Total Time: 789.59, Success Rate: 0.80\n",
      "Iter 76, Average Reward: 0.78, Total Distance: 1392.72, Total Time: 789.59, Success Rate: 0.80\n",
      "Iter 77, Average Reward: 0.78, Total Distance: 1392.72, Total Time: 789.59, Success Rate: 0.80\n",
      "Iter 78, Average Reward: 0.78, Total Distance: 1392.72, Total Time: 789.59, Success Rate: 0.80\n",
      "Iter 79, Average Reward: 0.78, Total Distance: 1392.72, Total Time: 789.59, Success Rate: 0.80\n",
      "Iter 80, Average Reward: 0.78, Total Distance: 1392.72, Total Time: 789.59, Success Rate: 0.80\n"
     ]
    }
   ],
   "source": [
    "\"\"\"\n",
    "运行 HS_MOPSO 优化\n",
    "\"\"\"\n",
    "from model.hs_mopso import HS_MOPSO\n",
    "mopso = HS_MOPSO(env, max_iter=80, pop_size=120)\n",
    "mopso.run()"
   ]
  },
  {
   "cell_type": "code",
   "execution_count": null,
   "id": "d506e1b6",
   "metadata": {},
   "outputs": [],
   "source": [
    "\"\"\"\n",
    "运行 RR 轮询算法\n",
    "\"\"\"\n",
    "# from model.rr import round_robin_allocation\n",
    "# round_robin_allocation(env)"
   ]
  },
  {
   "cell_type": "code",
   "execution_count": 8,
   "id": "2e355855",
   "metadata": {},
   "outputs": [
    {
     "data": {
      "text/plain": [
       "'\\n运行随机算法\\n'"
      ]
     },
     "execution_count": 8,
     "metadata": {},
     "output_type": "execute_result"
    }
   ],
   "source": [
    "\"\"\"\n",
    "运行随机算法\n",
    "\"\"\"\n",
    "# from model.random import random_allocation\n",
    "# random_allocation(env)"
   ]
  }
 ],
 "metadata": {
  "kernelspec": {
   "display_name": "base",
   "language": "python",
   "name": "python3"
  },
  "language_info": {
   "codemirror_mode": {
    "name": "ipython",
    "version": 3
   },
   "file_extension": ".py",
   "mimetype": "text/x-python",
   "name": "python",
   "nbconvert_exporter": "python",
   "pygments_lexer": "ipython3",
   "version": "3.12.7"
  }
 },
 "nbformat": 4,
 "nbformat_minor": 5
}
